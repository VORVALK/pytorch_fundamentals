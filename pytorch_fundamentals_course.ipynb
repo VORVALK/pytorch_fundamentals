{
  "nbformat": 4,
  "nbformat_minor": 0,
  "metadata": {
    "colab": {
      "provenance": [],
      "authorship_tag": "ABX9TyMQObXM9FH4Tkf/gWS40G7j",
      "include_colab_link": true
    },
    "kernelspec": {
      "name": "python3",
      "display_name": "Python 3"
    },
    "language_info": {
      "name": "python"
    }
  },
  "cells": [
    {
      "cell_type": "markdown",
      "metadata": {
        "id": "view-in-github",
        "colab_type": "text"
      },
      "source": [
        "<a href=\"https://colab.research.google.com/github/VORVALK/pytorch_fundamentals/blob/main/pytorch_fundamentals_course.ipynb\" target=\"_parent\"><img src=\"https://colab.research.google.com/assets/colab-badge.svg\" alt=\"Open In Colab\"/></a>"
      ]
    },
    {
      "cell_type": "markdown",
      "source": [
        "## 00. Pytorch Fundamentals\n",
        "\n",
        "Resource motebook: https://www.learnpytorch.io/00_pytorch_fundamentals/"
      ],
      "metadata": {
        "id": "e0TYbRXNB-hX"
      }
    },
    {
      "cell_type": "code",
      "source": [
        "## Import libraries\n",
        "\n",
        "import torch\n",
        "import pandas as pd\n",
        "import numpy as np\n",
        "import matplotlib.pyplot as plt\n",
        "print(torch.__version__)"
      ],
      "metadata": {
        "colab": {
          "base_uri": "https://localhost:8080/"
        },
        "id": "eZ5zxkI3Hou-",
        "outputId": "c4c2a574-6412-43bc-f233-c4cee7f0cf62"
      },
      "execution_count": 2,
      "outputs": [
        {
          "output_type": "stream",
          "name": "stdout",
          "text": [
            "2.4.1+cu121\n"
          ]
        }
      ]
    },
    {
      "cell_type": "markdown",
      "source": [
        "## Introduction to tensors\n",
        "### Creating tensors"
      ],
      "metadata": {
        "id": "d8gKqPQmI2MR"
      }
    },
    {
      "cell_type": "code",
      "source": [
        "# Scalar\n",
        "scalar = torch.tensor(7)\n",
        "scalar\n",
        "scalar.ndim"
      ],
      "metadata": {
        "colab": {
          "base_uri": "https://localhost:8080/"
        },
        "id": "9fmi4-GVJTq2",
        "outputId": "8ab12303-ab59-4a55-d5ad-7a3937aacfea"
      },
      "execution_count": 3,
      "outputs": [
        {
          "output_type": "execute_result",
          "data": {
            "text/plain": [
              "0"
            ]
          },
          "metadata": {},
          "execution_count": 3
        }
      ]
    },
    {
      "cell_type": "code",
      "source": [
        "# Get tensor back as Python int\n",
        "scalar.item()"
      ],
      "metadata": {
        "colab": {
          "base_uri": "https://localhost:8080/"
        },
        "id": "-79gqguMKLDZ",
        "outputId": "191d0564-a5b7-4ccd-88ff-72108aec0d01"
      },
      "execution_count": 4,
      "outputs": [
        {
          "output_type": "execute_result",
          "data": {
            "text/plain": [
              "7"
            ]
          },
          "metadata": {},
          "execution_count": 4
        }
      ]
    },
    {
      "cell_type": "code",
      "source": [
        "# Create a vector\n",
        "vector = torch.tensor([7,7])\n",
        "vector.shape"
      ],
      "metadata": {
        "colab": {
          "base_uri": "https://localhost:8080/"
        },
        "id": "KyRhwPtgKUwJ",
        "outputId": "7482c429-8565-4458-cf7e-b86cacc0620f"
      },
      "execution_count": 5,
      "outputs": [
        {
          "output_type": "execute_result",
          "data": {
            "text/plain": [
              "torch.Size([2])"
            ]
          },
          "metadata": {},
          "execution_count": 5
        }
      ]
    },
    {
      "cell_type": "code",
      "source": [
        "# Create a matrix\n",
        "mtx = torch.tensor([[7,8],[9,10]])\n",
        "mtx\n",
        "mtx.shape"
      ],
      "metadata": {
        "colab": {
          "base_uri": "https://localhost:8080/"
        },
        "id": "M8847pqCLBJf",
        "outputId": "62161087-658c-4b68-ad15-d672d05c8f8e"
      },
      "execution_count": 6,
      "outputs": [
        {
          "output_type": "execute_result",
          "data": {
            "text/plain": [
              "torch.Size([2, 2])"
            ]
          },
          "metadata": {},
          "execution_count": 6
        }
      ]
    },
    {
      "cell_type": "code",
      "source": [
        "# Create tensor\n",
        "TNS = torch.tensor([[[1,2,3],[4,5,6],[7,8,9]]])\n",
        "TNS.shape\n",
        "# tensor shape is 1 x 3 x 3"
      ],
      "metadata": {
        "colab": {
          "base_uri": "https://localhost:8080/"
        },
        "id": "VD6rs4bILwjS",
        "outputId": "3f94ae9b-508a-47af-d6e1-e8c04cc08098"
      },
      "execution_count": 7,
      "outputs": [
        {
          "output_type": "execute_result",
          "data": {
            "text/plain": [
              "torch.Size([1, 3, 3])"
            ]
          },
          "metadata": {},
          "execution_count": 7
        }
      ]
    },
    {
      "cell_type": "markdown",
      "source": [
        "### Random Tensors"
      ],
      "metadata": {
        "id": "-c3Ee6iKQnRL"
      }
    },
    {
      "cell_type": "code",
      "source": [
        "random_tensor = torch.rand(4,5)\n",
        "random_tensor\n",
        "\n",
        "random_image_tensor = torch.rand(256,256,3)\n",
        "random_image_tensor"
      ],
      "metadata": {
        "colab": {
          "base_uri": "https://localhost:8080/"
        },
        "id": "XHHQy1AnbAMI",
        "outputId": "8a067a79-ebbe-4f35-8d21-b4b9f2d9420e"
      },
      "execution_count": 8,
      "outputs": [
        {
          "output_type": "execute_result",
          "data": {
            "text/plain": [
              "tensor([[[0.9171, 0.2376, 0.0245],\n",
              "         [0.5872, 0.4410, 0.0252],\n",
              "         [0.2019, 0.7269, 0.4760],\n",
              "         ...,\n",
              "         [0.3919, 0.8085, 0.8975],\n",
              "         [0.1836, 0.6159, 0.6980],\n",
              "         [0.8624, 0.9465, 0.1092]],\n",
              "\n",
              "        [[0.0061, 0.9930, 0.7358],\n",
              "         [0.0885, 0.0224, 0.8937],\n",
              "         [0.7213, 0.5220, 0.5478],\n",
              "         ...,\n",
              "         [0.9208, 0.8246, 0.7915],\n",
              "         [0.2643, 0.9671, 0.7229],\n",
              "         [0.7482, 0.9422, 0.1817]],\n",
              "\n",
              "        [[0.2413, 0.8458, 0.9654],\n",
              "         [0.5275, 0.9623, 0.0853],\n",
              "         [0.0307, 0.5961, 0.3759],\n",
              "         ...,\n",
              "         [0.8461, 0.9226, 0.4272],\n",
              "         [0.7744, 0.0840, 0.8050],\n",
              "         [0.0517, 0.8633, 0.2926]],\n",
              "\n",
              "        ...,\n",
              "\n",
              "        [[0.6077, 0.4688, 0.8592],\n",
              "         [0.3204, 0.1059, 0.1489],\n",
              "         [0.0290, 0.4601, 0.3300],\n",
              "         ...,\n",
              "         [0.1979, 0.0572, 0.8122],\n",
              "         [0.8908, 0.0037, 0.4898],\n",
              "         [0.9502, 0.1059, 0.8910]],\n",
              "\n",
              "        [[0.8508, 0.9379, 0.1799],\n",
              "         [0.2528, 0.8007, 0.3855],\n",
              "         [0.2915, 0.6882, 0.4486],\n",
              "         ...,\n",
              "         [0.5441, 0.8972, 0.9756],\n",
              "         [0.8247, 0.2858, 0.3396],\n",
              "         [0.5649, 0.7115, 0.5681]],\n",
              "\n",
              "        [[0.8173, 0.1036, 0.1253],\n",
              "         [0.3957, 0.2134, 0.0084],\n",
              "         [0.4106, 0.6954, 0.2326],\n",
              "         ...,\n",
              "         [0.0924, 0.6846, 0.1407],\n",
              "         [0.2042, 0.8432, 0.9432],\n",
              "         [0.8228, 0.1060, 0.2884]]])"
            ]
          },
          "metadata": {},
          "execution_count": 8
        }
      ]
    },
    {
      "cell_type": "markdown",
      "source": [
        "### Create a tensor of all zeros"
      ],
      "metadata": {
        "id": "KFsxJpRjycMY"
      }
    },
    {
      "cell_type": "code",
      "source": [
        "zeros = torch.zeros(size=(3,4))\n",
        "zeros"
      ],
      "metadata": {
        "colab": {
          "base_uri": "https://localhost:8080/"
        },
        "id": "e3O9BmV7yhoR",
        "outputId": "6b92c2e7-ef1e-41f0-a8e8-b0d0e6d65cd6"
      },
      "execution_count": 9,
      "outputs": [
        {
          "output_type": "execute_result",
          "data": {
            "text/plain": [
              "tensor([[0., 0., 0., 0.],\n",
              "        [0., 0., 0., 0.],\n",
              "        [0., 0., 0., 0.]])"
            ]
          },
          "metadata": {},
          "execution_count": 9
        }
      ]
    },
    {
      "cell_type": "markdown",
      "source": [
        "### Create a tensor of all ones"
      ],
      "metadata": {
        "id": "tH_tRco8y6UY"
      }
    },
    {
      "cell_type": "code",
      "source": [
        "ones = torch.ones(size=(3,4))\n",
        "ones, ones.dtype"
      ],
      "metadata": {
        "colab": {
          "base_uri": "https://localhost:8080/"
        },
        "id": "8aW0t5HrzAs8",
        "outputId": "8a90d9be-876e-4241-bb94-1f2530a989a9"
      },
      "execution_count": 10,
      "outputs": [
        {
          "output_type": "execute_result",
          "data": {
            "text/plain": [
              "(tensor([[1., 1., 1., 1.],\n",
              "         [1., 1., 1., 1.],\n",
              "         [1., 1., 1., 1.]]),\n",
              " torch.float32)"
            ]
          },
          "metadata": {},
          "execution_count": 10
        }
      ]
    },
    {
      "cell_type": "markdown",
      "source": [
        "## Create a range of tenors and tensors-like"
      ],
      "metadata": {
        "id": "9rxUyibdzswL"
      }
    },
    {
      "cell_type": "code",
      "source": [
        "torch.arange(0, 10)"
      ],
      "metadata": {
        "colab": {
          "base_uri": "https://localhost:8080/"
        },
        "id": "YkPiTDpnzz9c",
        "outputId": "1061fe30-e5ba-48ce-ba9c-33ad8b4b6ff9"
      },
      "execution_count": 11,
      "outputs": [
        {
          "output_type": "execute_result",
          "data": {
            "text/plain": [
              "tensor([0, 1, 2, 3, 4, 5, 6, 7, 8, 9])"
            ]
          },
          "metadata": {},
          "execution_count": 11
        }
      ]
    },
    {
      "cell_type": "code",
      "source": [
        "rand_tensor = torch.arange(start=0, end=1000, step=77)\n",
        "rand_tensor"
      ],
      "metadata": {
        "colab": {
          "base_uri": "https://localhost:8080/"
        },
        "id": "IuGzncX80cBp",
        "outputId": "18c67f71-5b4c-4528-e490-d7e555cbeea1"
      },
      "execution_count": 12,
      "outputs": [
        {
          "output_type": "execute_result",
          "data": {
            "text/plain": [
              "tensor([  0,  77, 154, 231, 308, 385, 462, 539, 616, 693, 770, 847, 924])"
            ]
          },
          "metadata": {},
          "execution_count": 12
        }
      ]
    },
    {
      "cell_type": "code",
      "source": [
        "# Converting tensor to all zeros\n",
        "ten_zeros = torch.zeros_like(rand_tensor)\n",
        "ten_zeros"
      ],
      "metadata": {
        "colab": {
          "base_uri": "https://localhost:8080/"
        },
        "id": "uO46Wsbl0p1d",
        "outputId": "7805c598-aa38-4972-a39e-01fd24612c67"
      },
      "execution_count": 13,
      "outputs": [
        {
          "output_type": "execute_result",
          "data": {
            "text/plain": [
              "tensor([0, 0, 0, 0, 0, 0, 0, 0, 0, 0, 0, 0, 0])"
            ]
          },
          "metadata": {},
          "execution_count": 13
        }
      ]
    },
    {
      "cell_type": "markdown",
      "source": [
        "## Tensor datatypes"
      ],
      "metadata": {
        "id": "fx1GpUTZicwk"
      }
    },
    {
      "cell_type": "code",
      "source": [
        "# Float32 Tensor\n",
        "float32_tensor = torch.tensor([3.0,6.0, 9.0],\n",
        "                              dtype=None,           # what data type is the tensor\n",
        "                              device=None,          # what device is on (CPU vs GPU)\n",
        "                              requires_grad=False)  # whether or not to track gradients with this tensor's operations\n",
        "float32_tensor.dtype"
      ],
      "metadata": {
        "colab": {
          "base_uri": "https://localhost:8080/"
        },
        "id": "Cikyp5-PigCa",
        "outputId": "090658f8-535d-43f4-e7ab-1ebe55b93268"
      },
      "execution_count": 16,
      "outputs": [
        {
          "output_type": "execute_result",
          "data": {
            "text/plain": [
              "torch.float32"
            ]
          },
          "metadata": {},
          "execution_count": 16
        }
      ]
    },
    {
      "cell_type": "code",
      "source": [
        "# Float16 Tensor (convert from float32 tensor)\n",
        "float16_tensor = float32_tensor.type(torch.float16)\n",
        "float16_tensor"
      ],
      "metadata": {
        "colab": {
          "base_uri": "https://localhost:8080/"
        },
        "id": "F56_G03ok8PV",
        "outputId": "7728fbf9-fec5-4123-affb-6833838d9de1"
      },
      "execution_count": 18,
      "outputs": [
        {
          "output_type": "execute_result",
          "data": {
            "text/plain": [
              "tensor([3., 6., 9.], dtype=torch.float16)"
            ]
          },
          "metadata": {},
          "execution_count": 18
        }
      ]
    },
    {
      "cell_type": "code",
      "source": [
        "# Different datatypes can operate\n",
        "dif_types=float16_tensor * float32_tensor\n",
        "\n",
        "# Tensor details\n",
        "print(dif_types)\n",
        "print(f\"Tenso datatype: {dif_types.dtype}\")\n",
        "print(f\"Tensor shape: {dif_types.shape}\")\n",
        "print(f\"Device tensor is on: {dif_types.device}\")"
      ],
      "metadata": {
        "colab": {
          "base_uri": "https://localhost:8080/"
        },
        "id": "BUDGbVrglamX",
        "outputId": "de246545-4719-4c62-82c6-44fc41aec44f"
      },
      "execution_count": 25,
      "outputs": [
        {
          "output_type": "stream",
          "name": "stdout",
          "text": [
            "tensor([ 9., 36., 81.])\n",
            "Tenso datatype: torch.float32\n",
            "Tensor shape: torch.Size([3])\n",
            "Device tensor is on: cpu\n"
          ]
        }
      ]
    }
  ]
}